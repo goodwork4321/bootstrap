{
  "nbformat": 4,
  "nbformat_minor": 0,
  "metadata": {
    "colab": {
      "name": "hello2021.ipynb",
      "provenance": [],
      "authorship_tag": "ABX9TyNf5v2lFi7iU8zexc+EBrWh",
      "include_colab_link": true
    },
    "kernelspec": {
      "name": "python3",
      "display_name": "Python 3"
    }
  },
  "cells": [
    {
      "cell_type": "markdown",
      "metadata": {
        "id": "view-in-github",
        "colab_type": "text"
      },
      "source": [
        "<a href=\"https://colab.research.google.com/github/goodwork4321/bootstrap/blob/XhmikosR-patch-2/hello2021.ipynb\" target=\"_parent\"><img src=\"https://colab.research.google.com/assets/colab-badge.svg\" alt=\"Open In Colab\"/></a>"
      ]
    },
    {
      "cell_type": "code",
      "metadata": {
        "id": "m6xydlO_ThRE",
        "colab": {
          "base_uri": "https://localhost:8080/"
        },
        "outputId": "ce64dec3-198a-487b-8a58-04bce032e5e0"
      },
      "source": [
        "name=input(\"what is your name ?\")\r\n",
        "color=input(\"Which colour is your favourite?\")\r\n",
        "print(\"Namee is \", name)\r\n",
        "print(\"Favourtite colour is\", color)\r\n"
      ],
      "execution_count": 6,
      "outputs": [
        {
          "output_type": "stream",
          "text": [
            "what is your name ?donekee\n",
            "Which colour is your favourite?he\n",
            "Her name is  donekee\n",
            "Her favourtite color is he\n"
          ],
          "name": "stdout"
        }
      ]
    },
    {
      "cell_type": "markdown",
      "metadata": {
        "id": "xmuSGUhbBBKa"
      },
      "source": [
        "print(\"Hello\")\r\n"
      ]
    },
    {
      "cell_type": "code",
      "metadata": {
        "id": "jfSPfZbH7AG6"
      },
      "source": [
        ""
      ],
      "execution_count": null,
      "outputs": []
    },
    {
      "cell_type": "markdown",
      "metadata": {
        "id": "fzT1VH9k_cDo"
      },
      "source": [
        ""
      ]
    },
    {
      "cell_type": "code",
      "metadata": {
        "id": "NzPhsy7A_cc5"
      },
      "source": [
        ""
      ],
      "execution_count": null,
      "outputs": []
    },
    {
      "cell_type": "markdown",
      "metadata": {
        "id": "5fV2ouH0_csc"
      },
      "source": [
        "print(\"Hello,How r u\")\r\n"
      ]
    },
    {
      "cell_type": "code",
      "metadata": {
        "id": "L6qNfO5r7And"
      },
      "source": [
        ""
      ],
      "execution_count": null,
      "outputs": []
    },
    {
      "cell_type": "markdown",
      "metadata": {
        "id": "d9c9LctSUcwQ"
      },
      "source": [
        ""
      ]
    },
    {
      "cell_type": "code",
      "metadata": {
        "id": "5zg9Bhi_UdQj"
      },
      "source": [
        ""
      ],
      "execution_count": null,
      "outputs": []
    }
  ]
}